{
 "cells": [
  {
   "cell_type": "code",
   "execution_count": null,
   "metadata": {},
   "outputs": [],
   "source": [
    "#hide\n",
    "from google.colab import drive\n",
    "drive.mount('/content/drive')"
   ]
  },
  {
   "cell_type": "code",
   "execution_count": null,
   "metadata": {},
   "outputs": [],
   "source": [
    "#hide\n",
    "% cd /content/drive/My\\ Drive/nbd_colab"
   ]
  },
  {
   "cell_type": "code",
   "execution_count": null,
   "metadata": {},
   "outputs": [],
   "source": [
    "#hide\n",
    "from nbd_colab import *"
   ]
  },
  {
   "cell_type": "markdown",
   "metadata": {},
   "source": [
    "# Welcome to nbd_colab\n",
    "\n",
    "> nbd_colab is a thin wrapper of functions around nbdev to aid integration of nbdev with Google drive and Google Colab. "
   ]
  },
  {
   "cell_type": "markdown",
   "metadata": {},
   "source": [
    "## Install"
   ]
  },
  {
   "cell_type": "markdown",
   "metadata": {},
   "source": [
    "`pip install nbd_colab`"
   ]
  },
  {
   "cell_type": "markdown",
   "metadata": {},
   "source": [
    "## Overview\n",
    "\n",
    "See the nbdev documentstion formore details of nbdev, a powerful system for exploratory programming, and why you may want to use it. These docs will simply focus on using nbd_colab as an aid to integrating nbded with Google drive and Google Colab.  "
   ]
  },
  {
   "cell_type": "markdown",
   "metadata": {},
   "source": [
    "There are a number of steps to using nbdev with Google Colab and google Drive\n",
    "\n",
    "\n",
    "\n",
    "1.   Create an nbdev template repository in your github account (see nbdev tutorial `https://nbdev.fast.ai/tutorial/#Upload-to-pypi`).\n",
    "2.   Configue the settings.ini file in the nbdev template repo (see nbdev tutorial `https://nbdev.fast.ai/tutorial/#Upload-to-pypi`).\n",
    "3.   Create a new python 3 instance (notebook) in Google Colab\n",
    "4.   !pip install nbd_colab from within the new notebook (it will automatically install nbdev itself)\n",
    "5.   Connect your Colab instance to Google drive with setup_drive()\n",
    "6.   Run clone_new_repo() to clone the nbdev template repo to your google drive\n",
    "7.   When you create a new notebook (new project module), install nbd_colab, \n",
    "from nbd_colab.core import *, and run setup_nb to ensure the module is connected to the Google drive repo and is ready to go!\n",
    "\n",
    "\n",
    "\n"
   ]
  }
 ],
 "metadata": {
  "kernelspec": {
   "display_name": "Python 3",
   "language": "python",
   "name": "python3"
  }
 },
 "nbformat": 4,
 "nbformat_minor": 0
}
