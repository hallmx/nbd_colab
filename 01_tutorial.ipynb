{
 "cells": [
  {
   "cell_type": "code",
   "execution_count": null,
   "metadata": {},
   "outputs": [],
   "source": [
    "# default_exp tutorial"
   ]
  },
  {
   "cell_type": "code",
   "execution_count": null,
   "metadata": {},
   "outputs": [],
   "source": [
    "# hide\n",
    "%load_ext autoreload\n",
    "%autoreload 2"
   ]
  },
  {
   "cell_type": "code",
   "execution_count": null,
   "metadata": {},
   "outputs": [
    {
     "name": "stdout",
     "output_type": "stream",
     "text": [
      "Go to this URL in a browser: https://accounts.google.com/o/oauth2/auth?client_id=947318989803-6bn6qk8qdgf4n4g3pfee6491hc0brc4i.apps.googleusercontent.com&redirect_uri=urn%3aietf%3awg%3aoauth%3a2.0%3aoob&response_type=code&scope=email%20https%3a%2f%2fwww.googleapis.com%2fauth%2fdocs.test%20https%3a%2f%2fwww.googleapis.com%2fauth%2fdrive%20https%3a%2f%2fwww.googleapis.com%2fauth%2fdrive.photos.readonly%20https%3a%2f%2fwww.googleapis.com%2fauth%2fpeopleapi.readonly\n",
      "\n",
      "Enter your authorization code:\n",
      "··········\n",
      "Mounted at /content/drive\n"
     ]
    }
   ],
   "source": [
    "# hide\n",
    "from google.colab import drive\n",
    "drive.mount('/content/drive')"
   ]
  },
  {
   "cell_type": "code",
   "execution_count": null,
   "metadata": {},
   "outputs": [
    {
     "name": "stdout",
     "output_type": "stream",
     "text": [
      "Collecting fastcore\n",
      "  Downloading https://files.pythonhosted.org/packages/62/01/9cab1fdaef504edbe2e203111fd9d5d68fdc55ca06621e84851caa8ba7cf/fastcore-0.1.10-py3-none-any.whl\n",
      "Requirement already satisfied: dataclasses>='0.7'; python_version < \"3.7\" in /usr/local/lib/python3.6/dist-packages (from fastcore) (0.7)\n",
      "Requirement already satisfied: numpy in /usr/local/lib/python3.6/dist-packages (from fastcore) (1.17.5)\n",
      "Installing collected packages: fastcore\n",
      "Successfully installed fastcore-0.1.10\n"
     ]
    }
   ],
   "source": [
    "# hide\n",
    "!pip install nbdev\n",
    "!pip install fastcore"
   ]
  },
  {
   "cell_type": "code",
   "execution_count": null,
   "metadata": {},
   "outputs": [],
   "source": [
    "# export\n",
    "from nbdev import *\n",
    "from nbdev.showdoc import *"
   ]
  },
  {
   "cell_type": "markdown",
   "metadata": {},
   "source": [
    "# Adding a new notebook/module\n",
    "\n",
    "> A quick guide to adding a new Colaboratory notebook/module to your project repository and configuring it for use with nbdev. Note, nbdev_colab is not needed for creating a new notebook/module. "
   ]
  },
  {
   "cell_type": "markdown",
   "metadata": {},
   "source": [
    "## Add a new Colab notebook/module."
   ]
  },
  {
   "cell_type": "markdown",
   "metadata": {},
   "source": [
    "Follow the steps below to add a new Colab notebook/module to your project repository on Google Drive. \n",
    "\n",
    "Create a new python 3 notebook in Gooogle Colaboratory (Colab) and name it according to the nbdev convention of incremental numbering (00, 01, 02 etc) followed by an underscore and a name describing its contents. For example, if this is the third notebook added to the project, and it contains networking functionality, an appropriate name might be '03_network.ipynb'. \n",
    "\n",
    "Note that Colab may not create the notebook directly in the project repository on Google Drive. If not, locate it at the default location where new notebooks are created (commonly the 'Colab Notebooks' folder in '/My Drive'), then right click the notebook and select 'move'. Use the pop up box to move it to the desired location in the cloned project directory. \n",
    "\n",
    "Then add and run the following code snippets in separate cells in order to set up the notebook for nbdev integration.\n",
    "\n",
    "1.   In the first cell add:\n",
    "\n",
    " ```# default_exp <module>```\n",
    "\n",
    "Where <module> is the name of the .py file that the notebook will create. In the case of the 03_network.ipynb notebook, the module name should be 'network'. Submodules can be specified with <module.submodule'.\n",
    "\n",
    "2.   Add autoreload functionality to any changes in one notebook module are automatically updated in linked module notebooks:\n",
    "```\n",
    "#hide\n",
    "%load_ext autoreload\n",
    "%autoreload 2\n",
    "```\n",
    "\n",
    "3.   Then code to connect your Colab instance to Google Drive:\n",
    "```\n",
    "# hide\n",
    "from google.colab import drive\n",
    "drive.mount('/content/drive')\n",
    "```\n",
    "\n",
    "4.   Required installs. Fastcore is required for running tests from nbdev.\n",
    "```\n",
    "# hide\n",
    "!pip install nbdev\n",
    "!pip install fastcore\n",
    "```\n",
    "\n",
    "5. Add a text cell with the following code and replace the placeholder text with the name/title for your module that you want to appear in the documentation.\n",
    "```\n",
    "# Module title\n",
    "```\n",
    "6. Add the following code to the same text cell as the module title. The '>' creates a indented and formatted text cell below the module title where you can add explanation/details of the module. \n",
    "```\n",
    "> Details.\n",
    "```\n",
    "\n",
    "5.   Import modules:\n",
    "```\n",
    "#export\n",
    "from nbdev import *\n",
    "from nbdev.showdoc import *\n",
    "```\n",
    "\n",
    "6.   Add the in-notebook export cell. Running this cell exports modules directly from the notebook (without having to go to the command line). The nbdev docs suggest adding it as the final cell in the notebook.\n",
    "```\n",
    "#hide\n",
    "from nbdev.export import notebook2script\n",
    "notebook2script()\n",
    "```\n",
    "\n",
    "Finally, cd into the root directory of your project repository ```repo``` on Google Drive ```cd /content/drive/My drive/repo``` and you're ready to go. See the nbdev tutorial and documentation on customizing the above steps and code for a module's particular needs http://nbdev.fast.ai/index.html."
   ]
  }
 ],
 "metadata": {
  "kernelspec": {
   "display_name": "Python 3",
   "name": "python3"
  }
 },
 "nbformat": 4,
 "nbformat_minor": 0
}
