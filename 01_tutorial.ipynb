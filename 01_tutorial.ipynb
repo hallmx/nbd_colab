{
 "cells": [
  {
   "cell_type": "code",
   "execution_count": null,
   "metadata": {},
   "outputs": [],
   "source": [
    "# default_exp tutorial"
   ]
  },
  {
   "cell_type": "code",
   "execution_count": null,
   "metadata": {},
   "outputs": [],
   "source": [
    "#hide\n",
    "from google.colab import drive\n",
    "drive.mount('/content/drive')"
   ]
  },
  {
   "cell_type": "code",
   "execution_count": null,
   "metadata": {},
   "outputs": [],
   "source": [
    "#hide\n",
    "!pip install nbdev"
   ]
  },
  {
   "cell_type": "code",
   "execution_count": null,
   "metadata": {},
   "outputs": [],
   "source": [
    "#hide\n",
    "%cd /content/drive/My Drive/nbd_colab"
   ]
  },
  {
   "cell_type": "code",
   "execution_count": null,
   "metadata": {},
   "outputs": [],
   "source": [
    "#export\n",
    "from nbdev import *"
   ]
  },
  {
   "cell_type": "markdown",
   "metadata": {},
   "source": [
    "# Adding a new notebook\n",
    "\n",
    "> A quick guide to adding a new Colaboratory notebook to your project repo and configuring it for use with nbdev."
   ]
  },
  {
   "cell_type": "markdown",
   "metadata": {},
   "source": [
    "\n",
    "Create a new python 3 notebook in Gooogle Colaboratory (Colab) and name it according to the nbdev convention of incremental numbering (00, 01, 02 etc) followed by an underscore and a name describing its contents. For example, if this is the third notebook added to the project, and it contains tests, an appropriate name might be '03_tests.ipynb'. Note that the new notebook may not be created directly in the project repository on Google Drive. If not, locate it on your Google Drive (commonly the 'Colab Notebooks' folder in '/My Drive'), and move it to the project repo by right clicking and selecting 'move'. \n",
    "\n",
    "Then add and run the following code snippets in separate cells.\n",
    "\n",
    "1.   In the first cell add the following code where `<module>` is the name of the .py file that the notebook will create. In the case of the 03_tests.ipynb notebook, the module name should be 'tests'. Submodules can be specified with `<module.submodule`.\n",
    "\n",
    " ```\n",
    " # default_exp <module>\n",
    " ```\n",
    "\n",
    "2.   Then add the following code to connect your Colab instance to Google Drive. Alternatively, click on 'Mount Drive' in the Colab sidebar File tab and the above code is automatically inserted and run for you. \n",
    "```\n",
    "#hide\n",
    "from google.colab import drive\n",
    "drive.mount('/content/drive')\n",
    "```\n",
    "\n",
    "3.   Required installs. Fastcore is required for running tests from nbdev.\n",
    "```\n",
    "#hide\n",
    "!pip install nbdev\n",
    "!pip install fastcore\n",
    "```\n",
    "\n",
    "4. Add a code cell that changes directory to the project repo early in the notebook. \n",
    "```\n",
    "#hide\n",
    "%cd /content/drive/My drive/<repo>\n",
    "```\n",
    "\n",
    "5.   Import modules:\n",
    "```\n",
    "#export\n",
    "from nbdev import *\n",
    "from nbdev.showdoc import *\n",
    "```\n",
    "\n",
    "4. Add a text cell with the following code and replace the placeholder text with the name/title for your notebook that you want to appear in the documentation. The '>' creates an indented paragraph. \n",
    "```\n",
    "# Notebook title\n",
    "> Add an explanation/details of the module here. \n",
    "```\n",
    "\n",
    "7.   Optionally add the in-notebook export cell. Running this cell exports modules directly from the notebook (without having to go to the command line). The nbdev docs suggest adding it as the final cell in the notebook. \n",
    "```\n",
    "#hide\n",
    "from nbdev.export import notebook2script\n",
    "notebook2script()\n",
    "```\n",
    "\n",
    "Your ready to go. \n"
   ]
  }
 ],
 "metadata": {
  "kernelspec": {
   "display_name": "Python 3",
   "name": "python3"
  }
 },
 "nbformat": 4,
 "nbformat_minor": 0
}
