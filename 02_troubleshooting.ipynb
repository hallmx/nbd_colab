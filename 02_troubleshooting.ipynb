{
 "cells": [
  {
   "cell_type": "code",
   "execution_count": null,
   "metadata": {},
   "outputs": [],
   "source": [
    "# default_exp troubleshooting"
   ]
  },
  {
   "cell_type": "code",
   "execution_count": null,
   "metadata": {},
   "outputs": [],
   "source": [
    "#hide\n",
    "#test_flag_colab\n",
    "from google.colab import drive\n",
    "drive.mount('/content/drive')"
   ]
  },
  {
   "cell_type": "code",
   "execution_count": null,
   "metadata": {},
   "outputs": [],
   "source": [
    "#hide\n",
    "!pip install nbdev"
   ]
  },
  {
   "cell_type": "code",
   "execution_count": null,
   "metadata": {},
   "outputs": [
    {
     "name": "stdout",
     "output_type": "stream",
     "text": [
      "/content/drive/My Drive/nbd_colab\n"
     ]
    }
   ],
   "source": [
    "#hide\n",
    "%cd /content/drive/My\\ Drive/nbd_colab"
   ]
  },
  {
   "cell_type": "code",
   "execution_count": null,
   "metadata": {},
   "outputs": [],
   "source": [
    "#export\n",
    "from nbdev import *"
   ]
  },
  {
   "cell_type": "markdown",
   "metadata": {},
   "source": [
    "# Troubleshooting\n",
    "\n",
    "> There are a number of quirks and gotchas to be aware of when working with nbdev from Colaboratory. When you encounter a problem check the following. Many of them may seem obvious but can still trip you up and waste time - they have me!"
   ]
  },
  {
   "cell_type": "markdown",
   "metadata": {},
   "source": [
    "\n",
    "\n",
    "### 1. Make sure you are in the project directory.\n",
    "\n",
    "* Imports, nbdev commands, and command line code (pretty well everything except `!pip install`) only work when the current working directory is within the project directory. This applies to both the command line notebook and project development notebooks so ake sure you %cd into the project directory in both before you start working. Place a `%cd path_to_project_directory` instruction in an early cell (after installs but before any imports) in all your nbs so as not to forget! \n",
    "\n",
    "* System errors can reset notebooks and return the current working directory to home (i.e. '/content'). Thus, following a system error, particularly in the command line notebook, always check that you are still in the project directory before continuing (`!pwd`).\n",
    "\n",
    "* Oh, and make sure to use `%cd` not `!cd` to change directory!\n"
   ]
  },
  {
   "cell_type": "markdown",
   "metadata": {},
   "source": [
    "### 2. Local imports not updating when imported code changes. \n",
    "\n",
    "* As per the nbdev tutorial, set up autoreload by running the following code near the top of your notebook: \n",
    "```\n",
    "%load_ext autoreload\n",
    "%autoreload 2\n",
    "```\n",
    "\n",
    "* New local imoprts require a library rebuild to be recognised by Colab:  `nbdev_build_lib`. \n",
    " \n",
    "* If the import is still not working as expected , check the source notebook's corresponding .py file. Is the new code there? Did you `#export` it from the source notebook?. If so, repeat the build then factory reset the importing notebook BEFORE rerunning the imports cell. T"
   ]
  },
  {
   "cell_type": "markdown",
   "metadata": {},
   "source": [
    "### 3. `Show_doc` doesn't give the expected notebook cell output.\n",
    "* The nbdev `show_doc(class.method)` used to automatically generate documentation for class methods doesn't give the expected text output in Colab notebook cells, instead just a method definition. However, it works as expected when the documentation is actually built with `!nbdev_build_docs` so continue to use it as per the nbdev docs/tutorial (https://nbdev.fast.ai/)."
   ]
  },
  {
   "cell_type": "markdown",
   "metadata": {},
   "source": [
    "### 4. `nbdev_build_docs` fails with an error message.\n",
    "\n",
    "* Most often, it is a failed library import in one of the notebooks. Make sure all imports are working (see above if not) and if so, rebuild the project library. If the error persists and it is not obvious why, reset the runtime in the notebook executing the `nbdev_build_docs` command (a factory reset may be required) and try again."
   ]
  },
  {
   "cell_type": "markdown",
   "metadata": {},
   "source": [
    "### 4. `nbdev_diff_nbs` generates an output.\n",
    "\n",
    "* Code diffs between the notebooks and corresponding .py scripts should be resolved **before** pushing to GitHub. If nbdev_diff_nbs gives an output, therefore, you'll need to either run `notebook2script()` or `script2notebook()`,depending on whether you want to keep the changes in the notebook or .py script respectively, to fix and try again. "
   ]
  },
  {
   "cell_type": "markdown",
   "metadata": {},
   "source": [
    "### 5. `nbdev_test_nbs` reports failed tests\n",
    "\n",
    "The first thing to know is that for `nbdev_test_nbs` to give a clean bill of health, every notebook in the project must run from top to toe without stalling or raising an exception. So really, all cells are being tested and even if all the formal written tests pass, failure can arise from a stalled notebook or exception raised elsewhere. \n",
    "\n",
    "* If tests are failing, first check the error output which should give you the notebook the exception arose in and the offending snippet of code. \n",
    "\n",
    "In addition:\n",
    "\n",
    "1. GPU code and instructions being tested in a Colab CPU instance, will cause a  `cuda runtime error (100)` when `nbdev_test_nbs` is run. \n",
    "\n",
    "2. the code to mount Google Drive `from google.colab import drive; drive.mount('/content/drive')` in an open unmounted notebook will cause notebook execution to stall (and therefore tests fail) while awaiting user input. The same piece of code also causes a `module not found` error when `nbdev_test_nbs` is run during a GitHub push with resultant 'red cross ' on the repo homepage. This occurs because the required Google libraries are not installed on Github. \n",
    "\n",
    "To handle 1. and 2. above, instead of changing the code or test environment, which are otherwise fine, an easier solution is to exclude those cells from testing. Luckily nbdev has a way of doing this - test flags. First define one or more flags in the `tst_flags` setting of `settings.ini`:  like this `tst_flags = test_flag1|test_flag2`, where test_flag can be any name not alraedy used as a flag by nbdev and multiple flags are separated by | . Placing one of these user defined test flags (e.g.' #test_flag1') at the top of a notebook cell causes `nbdev_test_nbs` to ignore that cellwhen runing tests and no exception will be raised. That should get you past these Colab related test edge cases but there's more to test flags so do read up on them in the nbdev docs."
   ]
  },
  {
   "cell_type": "markdown",
   "metadata": {},
   "source": [
    "### 6. GitHub integration issues.\n",
    "\n",
    "* GitHuB integration works almost exactly the same from Colab notebooks as from the command line. Just make sure  'git_hooks' are set up (i.e. `!nbdev_install_git_hooks` has been run in the project directory) to strip notebooks of unwanted metadata (you only need do this once) and that the local repo is configured with your GitHub username and email using the following code (again from inside the project directory):  \n",
    "```\n",
    "!git config user.email \"email\"\n",
    "!git config user.name \"username\"\n",
    "```\n",
    "If you used 'clone_new_repo()' then these two steps should have ben done automatically. \n",
    "\n",
    "* Nbdev uses Git Actions to run a short yaml script of command line instructions with each git push. These include checking the notebooks can be opend and read (`nbev_read_nbs`), checking for diffs (`nbdev_diff_nbs`) and running tests on all notebooks with `nbdev_test_nbs`). Problems arising don't necessarily cause the push to fail but will alert the problem by placing a 'red cross' rather than 'green tick' next to the latest commit label on the repo page.  Click on the red cross to show the GitHub Actions panel and trace the problem. Then back to the project notebooks to debug. \n"
   ]
  },
  {
   "cell_type": "markdown",
   "metadata": {},
   "source": [
    "### 7. Documentation on GitHub Pages. \n",
    "\n",
    "* Github pages only shows the index.ipynb page without any other notebook documentation. Make sure you have checked the 'master branch/docs folder' option of 'GitHub Pages' (in the repo settings). The 'docs' folder is ignored if the 'master branch' only option is selected \n",
    "\n",
    "* A notebook doesn't appear in the docs sidebar menu. The menu is built from the first `#` markdown cell of each notebook, where the `#` must be followed by a unique notebook name e.g `# Core`. Include this before any other markdown cells and the notebook will appear in the menu under this name. \n",
    "\n",
    "* Otherwise, if the docs don't look as expected on GitHub Pages, revise the nbdev syntax for auto-generating documentation from notebook cells and review your code. "
   ]
  }
 ],
 "metadata": {
  "kernelspec": {
   "display_name": "Python 3",
   "name": "python3"
  }
 },
 "nbformat": 4,
 "nbformat_minor": 0
}
